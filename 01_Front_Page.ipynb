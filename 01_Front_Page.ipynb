{
 "cells": [
  {
   "cell_type": "markdown",
   "metadata": {},
   "source": [
    "# Evaluating the Applicability of the Capital Asset Pricing Model (CAPM)\n",
    "\n",
    "## Introduction \n",
    "The Capital Asset Pricing Model (CAPM), intorduced by Sharpe (1964), Lintner (1965), and Mossin (1966), is a financial model used to determine the expected return on an asset based on its risk relative to the market. This analysis aims to test the applicability of the CAPM in real-life scenarios by analyzing historical stock and market return data.\n",
    "\n",
    "## Question\n",
    "Does the CAPM accurately predict the expected returns of stocks based on their beta values relative to the market?\n",
    "\n",
    "## The Data\n",
    "In order to evaluate the model, I gathered data on various stocks. The data inculdes 10 years (2014-2024) of weekly stock price data for the 20 firms with the most weight in the S&P500 index. These companies include: \n",
    "- Microsoft Corp\n",
    "- Apple Inc\n",
    "- NVIDIA Corp\n",
    "- Amazon.com Inc\n",
    "- Meta Platforms Inc\n",
    "- Alphabet Inc\n",
    "- Bershire Hathaway\n",
    "- Broadcom Inc\n",
    "- Eli Lilly & Co\n",
    "- JPmorgan\n",
    "- Chase & Co\n",
    "- Exxon Mobil Corp\n",
    "- Tesla Inc\n",
    "- Visa Inc\n",
    "- Proctor & Gamble \n",
    "- MasterCard Inc\n",
    "- Johnson & Johnson\n",
    "- Costco Wholesale Group \n",
    "- Home Depot Inc\n",
    "- Merck & Co Inc\n",
    "- Abbvie Inc\n",
    "\n",
    "Additionally, weekly prices from the S&P 500 index (SPY) and the annual yield of 3 month treasury bonds as the risk-free rate will be collected.\n",
    "\n",
    "## Methodology \n",
    "1. **Data Collection**: Gather weekly stock price data, S&P 500 index data, and risk free rate data.\n",
    "2. **Data Preprocessing**: Align the data, calculate weekly returns, and convert annual risk-free rates to weekly rates. \n",
    "3. **Calculate Excess Returns**: Calculate the excess returns for both the stocks and the market by subtracting the risk-free rate.\n",
    "4. **Regression Analysis**: Perform a regression analysis with the stock’s excess returns as the dependent variable and the market’s excess return as the independent variable to estimate the stock’s beta and alpha.\n",
    "5. **Results Interpretation**: Analyze the alpha and beta values to determine if the CAPM holds for the selected stocks. A statistically significant alpha different from zero would indicate a deviation from the CAPM.\n",
    "6. **Data Visualizaition**: Provide visualizations of results. \n",
    "\n",
    "## Expected Results\n",
    "If the CAPM accurately predicts returns, the estimated alpha should be close to zero and not statistically significant, and the R-Squared values should be reasonably high. If the alpha is significantly different from zero, it suggests that the stock has abnormal returns not explained by the market, indicating a deviation from the CAPM.\n",
    "\n",
    "## Conclusion\n",
    "The findings from this analysis will help evaluate the applicability of the CAPM in predicting stock returns and provide insights into its limitations and potential areas of improvement.\n"
   ]
  }
 ],
 "metadata": {
  "kernelspec": {
   "display_name": "base",
   "language": "python",
   "name": "python3"
  },
  "language_info": {
   "name": "python",
   "version": "3.11.7"
  }
 },
 "nbformat": 4,
 "nbformat_minor": 2
}
